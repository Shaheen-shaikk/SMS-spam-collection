{
  "nbformat": 4,
  "nbformat_minor": 0,
  "metadata": {
    "colab": {
      "provenance": []
    },
    "kernelspec": {
      "name": "python3",
      "display_name": "Python 3"
    },
    "language_info": {
      "name": "python"
    }
  },
  "cells": [
    {
      "cell_type": "code",
      "execution_count": 4,
      "metadata": {
        "colab": {
          "base_uri": "https://localhost:8080/"
        },
        "id": "sV1To_BazPaC",
        "outputId": "9baa9c63-4ad7-42ae-869d-76f91909bf72"
      },
      "outputs": [
        {
          "output_type": "stream",
          "name": "stdout",
          "text": [
            "Naive Bayes Accuracy: 0.97847533632287\n",
            "Naive Bayes Classification Report:\n",
            "               precision    recall  f1-score   support\n",
            "\n",
            "           0       0.98      1.00      0.99       966\n",
            "           1       1.00      0.84      0.91       149\n",
            "\n",
            "    accuracy                           0.98      1115\n",
            "   macro avg       0.99      0.92      0.95      1115\n",
            "weighted avg       0.98      0.98      0.98      1115\n",
            "\n",
            "\n",
            "Logistic Regression Accuracy: 0.9695067264573991\n",
            "Logistic Regression Classification Report:\n",
            "               precision    recall  f1-score   support\n",
            "\n",
            "           0       0.97      1.00      0.98       966\n",
            "           1       1.00      0.77      0.87       149\n",
            "\n",
            "    accuracy                           0.97      1115\n",
            "   macro avg       0.98      0.89      0.93      1115\n",
            "weighted avg       0.97      0.97      0.97      1115\n",
            "\n",
            "\n",
            "SVM Accuracy: 0.9919282511210762\n",
            "SVM Classification Report:\n",
            "               precision    recall  f1-score   support\n",
            "\n",
            "           0       0.99      1.00      1.00       966\n",
            "           1       0.99      0.95      0.97       149\n",
            "\n",
            "    accuracy                           0.99      1115\n",
            "   macro avg       0.99      0.97      0.98      1115\n",
            "weighted avg       0.99      0.99      0.99      1115\n",
            "\n"
          ]
        }
      ],
      "source": [
        "import pandas as pd\n",
        "from sklearn.model_selection import train_test_split\n",
        "from sklearn.feature_extraction.text import TfidfVectorizer\n",
        "from sklearn.naive_bayes import MultinomialNB\n",
        "from sklearn.linear_model import LogisticRegression\n",
        "from sklearn.svm import SVC\n",
        "from sklearn.metrics import accuracy_score, classification_report\n",
        "\n",
        "# 1. Load the dataset\n",
        "df = pd.read_csv('/content/SMSSpamCollection', sep='\\t', header=None, names=['label', 'message'])\n",
        "\n",
        "# 2. Preprocessing\n",
        "df['label'] = df['label'].map({'ham': 0, 'spam': 1})  # Convert labels to numerical\n",
        "X = df['message']\n",
        "y = df['label']\n",
        "\n",
        "# 3. Split data into training and testing sets\n",
        "X_train, X_test, y_train, y_test = train_test_split(X, y, test_size=0.2, random_state=42)\n",
        "\n",
        "# 4. Feature Extraction (TF-IDF)\n",
        "tfidf_vectorizer = TfidfVectorizer(stop_words='english')\n",
        "X_train_tfidf = tfidf_vectorizer.fit_transform(X_train)\n",
        "X_test_tfidf = tfidf_vectorizer.transform(X_test)\n",
        "\n",
        "# 5. Model Training and Evaluation\n",
        "\n",
        "# a. Naive Bayes\n",
        "nb_classifier = MultinomialNB()\n",
        "nb_classifier.fit(X_train_tfidf, y_train)\n",
        "nb_predictions = nb_classifier.predict(X_test_tfidf)\n",
        "print(\"Naive Bayes Accuracy:\", accuracy_score(y_test, nb_predictions))\n",
        "print(\"Naive Bayes Classification Report:\\n\", classification_report(y_test, nb_predictions))\n",
        "\n",
        "# b. Logistic Regression\n",
        "lr_classifier = LogisticRegression(solver='liblinear')\n",
        "lr_classifier.fit(X_train_tfidf, y_train)\n",
        "lr_predictions = lr_classifier.predict(X_test_tfidf)\n",
        "print(\"\\nLogistic Regression Accuracy:\", accuracy_score(y_test, lr_predictions))\n",
        "print(\"Logistic Regression Classification Report:\\n\", classification_report(y_test, lr_predictions))\n",
        "\n",
        "# c. Support Vector Machine (SVM)\n",
        "svm_classifier = SVC(kernel='linear')\n",
        "svm_classifier.fit(X_train_tfidf, y_train)\n",
        "svm_predictions = svm_classifier.predict(X_test_tfidf)\n",
        "print(\"\\nSVM Accuracy:\", accuracy_score(y_test, svm_predictions))\n",
        "print(\"SVM Classification Report:\\n\", classification_report(y_test, svm_predictions))"
      ]
    }
  ]
}